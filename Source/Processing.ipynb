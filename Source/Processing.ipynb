{
 "cells": [
  {
   "cell_type": "markdown",
   "metadata": {},
   "source": [
    "# PROJECT\n",
    "## Applications of Big Data"
   ]
  },
  {
   "cell_type": "markdown",
   "metadata": {},
   "source": [
    "### 0. Importing libraries"
   ]
  },
  {
   "cell_type": "code",
   "execution_count": 1,
   "metadata": {},
   "outputs": [],
   "source": [
    "import pandas as pd"
   ]
  },
  {
   "cell_type": "markdown",
   "metadata": {},
   "source": [
    "### 1. Data processing"
   ]
  },
  {
   "cell_type": "markdown",
   "metadata": {},
   "source": [
    "#### 1.0. Data loading"
   ]
  },
  {
   "cell_type": "code",
   "execution_count": 2,
   "metadata": {},
   "outputs": [
    {
     "data": {
      "text/html": [
       "<div>\n",
       "<style scoped>\n",
       "    .dataframe tbody tr th:only-of-type {\n",
       "        vertical-align: middle;\n",
       "    }\n",
       "\n",
       "    .dataframe tbody tr th {\n",
       "        vertical-align: top;\n",
       "    }\n",
       "\n",
       "    .dataframe thead th {\n",
       "        text-align: right;\n",
       "    }\n",
       "</style>\n",
       "<table border=\"1\" class=\"dataframe\">\n",
       "  <thead>\n",
       "    <tr style=\"text-align: right;\">\n",
       "      <th></th>\n",
       "      <th>id</th>\n",
       "      <th>name</th>\n",
       "      <th>price</th>\n",
       "      <th>original_price</th>\n",
       "      <th>discount_rate</th>\n",
       "      <th>quantity_sold</th>\n",
       "      <th>rating_average</th>\n",
       "      <th>review_count</th>\n",
       "      <th>seller_id</th>\n",
       "      <th>category</th>\n",
       "      <th>spid</th>\n",
       "      <th>seller_name</th>\n",
       "      <th>author_name</th>\n",
       "    </tr>\n",
       "  </thead>\n",
       "  <tbody>\n",
       "    <tr>\n",
       "      <th>0</th>\n",
       "      <td>74021317</td>\n",
       "      <td>[Nhập 1212A10K giảm 10K đơn 199K] Cây Cam Ngọt...</td>\n",
       "      <td>68040</td>\n",
       "      <td>108000</td>\n",
       "      <td>37</td>\n",
       "      <td>70416</td>\n",
       "      <td>5.0</td>\n",
       "      <td>13151</td>\n",
       "      <td>1</td>\n",
       "      <td>Tiểu Thuyết</td>\n",
       "      <td>74021318</td>\n",
       "      <td>Tiki Trading</td>\n",
       "      <td>José Mauro de Vasconcelos</td>\n",
       "    </tr>\n",
       "    <tr>\n",
       "      <th>1</th>\n",
       "      <td>249009518</td>\n",
       "      <td>Sổ kế hoạch planner 18 tháng 2023-2024 SDstati...</td>\n",
       "      <td>12000</td>\n",
       "      <td>39000</td>\n",
       "      <td>69</td>\n",
       "      <td>32</td>\n",
       "      <td>0.0</td>\n",
       "      <td>0</td>\n",
       "      <td>148</td>\n",
       "      <td>Sổ Tay Các Loại</td>\n",
       "      <td>249009520</td>\n",
       "      <td>SDstationery</td>\n",
       "      <td>NaN</td>\n",
       "    </tr>\n",
       "    <tr>\n",
       "      <th>2</th>\n",
       "      <td>273612826</td>\n",
       "      <td>Tạp chí Pi- Hội Toán học Việt Nam số 12/ tháng...</td>\n",
       "      <td>35000</td>\n",
       "      <td>35000</td>\n",
       "      <td>0</td>\n",
       "      <td>0</td>\n",
       "      <td>0.0</td>\n",
       "      <td>0</td>\n",
       "      <td>469</td>\n",
       "      <td>Tạp Chí - Catalogue</td>\n",
       "      <td>273612827</td>\n",
       "      <td>Tạp Chí Pi</td>\n",
       "      <td>nhieu tac gia</td>\n",
       "    </tr>\n",
       "    <tr>\n",
       "      <th>3</th>\n",
       "      <td>273536931</td>\n",
       "      <td>Kinh Doanh Thời Trang - 8 Bước xây dựng, vận h...</td>\n",
       "      <td>169000</td>\n",
       "      <td>199000</td>\n",
       "      <td>15</td>\n",
       "      <td>49</td>\n",
       "      <td>5.0</td>\n",
       "      <td>4</td>\n",
       "      <td>2953</td>\n",
       "      <td>Sách kinh tế học</td>\n",
       "      <td>273536932</td>\n",
       "      <td>GIVER BOOKS &amp; MEDIA</td>\n",
       "      <td>NaN</td>\n",
       "    </tr>\n",
       "    <tr>\n",
       "      <th>4</th>\n",
       "      <td>182784585</td>\n",
       "      <td>(Tặng Poster 10 Kĩ năng sơ cấp cứu cơ bản) Sơ ...</td>\n",
       "      <td>240000</td>\n",
       "      <td>240000</td>\n",
       "      <td>0</td>\n",
       "      <td>58</td>\n",
       "      <td>5.0</td>\n",
       "      <td>8</td>\n",
       "      <td>52987</td>\n",
       "      <td>Sách Y Học</td>\n",
       "      <td>182784586</td>\n",
       "      <td>Tổ chức Giáo dục sức khỏe Wellbeing</td>\n",
       "      <td>NaN</td>\n",
       "    </tr>\n",
       "  </tbody>\n",
       "</table>\n",
       "</div>"
      ],
      "text/plain": [
       "          id                                               name   price  \\\n",
       "0   74021317  [Nhập 1212A10K giảm 10K đơn 199K] Cây Cam Ngọt...   68040   \n",
       "1  249009518  Sổ kế hoạch planner 18 tháng 2023-2024 SDstati...   12000   \n",
       "2  273612826  Tạp chí Pi- Hội Toán học Việt Nam số 12/ tháng...   35000   \n",
       "3  273536931  Kinh Doanh Thời Trang - 8 Bước xây dựng, vận h...  169000   \n",
       "4  182784585  (Tặng Poster 10 Kĩ năng sơ cấp cứu cơ bản) Sơ ...  240000   \n",
       "\n",
       "   original_price  discount_rate  quantity_sold  rating_average  review_count  \\\n",
       "0          108000             37          70416             5.0         13151   \n",
       "1           39000             69             32             0.0             0   \n",
       "2           35000              0              0             0.0             0   \n",
       "3          199000             15             49             5.0             4   \n",
       "4          240000              0             58             5.0             8   \n",
       "\n",
       "   seller_id             category       spid  \\\n",
       "0          1          Tiểu Thuyết   74021318   \n",
       "1        148      Sổ Tay Các Loại  249009520   \n",
       "2        469  Tạp Chí - Catalogue  273612827   \n",
       "3       2953     Sách kinh tế học  273536932   \n",
       "4      52987           Sách Y Học  182784586   \n",
       "\n",
       "                           seller_name                author_name  \n",
       "0                         Tiki Trading  José Mauro de Vasconcelos  \n",
       "1                         SDstationery                        NaN  \n",
       "2                           Tạp Chí Pi              nhieu tac gia  \n",
       "3                  GIVER BOOKS & MEDIA                        NaN  \n",
       "4  Tổ chức Giáo dục sức khỏe Wellbeing                        NaN  "
      ]
     },
     "execution_count": 2,
     "metadata": {},
     "output_type": "execute_result"
    }
   ],
   "source": [
    "products = pd.read_csv('dataset/products.csv')\n",
    "products.head()"
   ]
  },
  {
   "cell_type": "code",
   "execution_count": 3,
   "metadata": {},
   "outputs": [
    {
     "data": {
      "text/html": [
       "<div>\n",
       "<style scoped>\n",
       "    .dataframe tbody tr th:only-of-type {\n",
       "        vertical-align: middle;\n",
       "    }\n",
       "\n",
       "    .dataframe tbody tr th {\n",
       "        vertical-align: top;\n",
       "    }\n",
       "\n",
       "    .dataframe thead th {\n",
       "        text-align: right;\n",
       "    }\n",
       "</style>\n",
       "<table border=\"1\" class=\"dataframe\">\n",
       "  <thead>\n",
       "    <tr style=\"text-align: right;\">\n",
       "      <th></th>\n",
       "      <th>id</th>\n",
       "      <th>created_at</th>\n",
       "      <th>rating</th>\n",
       "      <th>title</th>\n",
       "      <th>content</th>\n",
       "      <th>thank_count</th>\n",
       "      <th>customer_name</th>\n",
       "      <th>customer_id</th>\n",
       "      <th>product_id</th>\n",
       "      <th>seller_product_id</th>\n",
       "    </tr>\n",
       "  </thead>\n",
       "  <tbody>\n",
       "    <tr>\n",
       "      <th>0</th>\n",
       "      <td>12559756</td>\n",
       "      <td>1633960872</td>\n",
       "      <td>5</td>\n",
       "      <td>Cực kì hài lòng</td>\n",
       "      <td>Có những người bước đến, họ lấp đầy hạnh phúc ...</td>\n",
       "      <td>389</td>\n",
       "      <td>Vân Anh</td>\n",
       "      <td>22051463</td>\n",
       "      <td>74021317</td>\n",
       "      <td>74021318</td>\n",
       "    </tr>\n",
       "    <tr>\n",
       "      <th>1</th>\n",
       "      <td>16979365</td>\n",
       "      <td>1657206097</td>\n",
       "      <td>5</td>\n",
       "      <td>Cực kì hài lòng</td>\n",
       "      <td>Thấy nhiều bạn chê tiki gói hàng quá, may sao ...</td>\n",
       "      <td>14</td>\n",
       "      <td>Phan Thảo Yến Nhím</td>\n",
       "      <td>27791831</td>\n",
       "      <td>74021317</td>\n",
       "      <td>74021318</td>\n",
       "    </tr>\n",
       "    <tr>\n",
       "      <th>2</th>\n",
       "      <td>14069617</td>\n",
       "      <td>1640442831</td>\n",
       "      <td>5</td>\n",
       "      <td>Cực kì hài lòng</td>\n",
       "      <td>Bìa cực xinh, tiki giao hàng nhanh, sách không...</td>\n",
       "      <td>26</td>\n",
       "      <td>Trần Thị Trang</td>\n",
       "      <td>17748750</td>\n",
       "      <td>74021317</td>\n",
       "      <td>74021318</td>\n",
       "    </tr>\n",
       "    <tr>\n",
       "      <th>3</th>\n",
       "      <td>12322259</td>\n",
       "      <td>1632568671</td>\n",
       "      <td>5</td>\n",
       "      <td>Cực kì hài lòng</td>\n",
       "      <td>Nội dung của sách thì không phải bàn đến rồi, ...</td>\n",
       "      <td>16</td>\n",
       "      <td>Khánh Ly</td>\n",
       "      <td>10149686</td>\n",
       "      <td>74021317</td>\n",
       "      <td>74021318</td>\n",
       "    </tr>\n",
       "    <tr>\n",
       "      <th>4</th>\n",
       "      <td>18368714</td>\n",
       "      <td>1670438913</td>\n",
       "      <td>5</td>\n",
       "      <td>Cực kì hài lòng</td>\n",
       "      <td>Một cuốn sách rất đáng đọc về tình yêu thương ...</td>\n",
       "      <td>1</td>\n",
       "      <td>Phương Linh</td>\n",
       "      <td>28545286</td>\n",
       "      <td>74021317</td>\n",
       "      <td>74021318</td>\n",
       "    </tr>\n",
       "  </tbody>\n",
       "</table>\n",
       "</div>"
      ],
      "text/plain": [
       "         id  created_at  rating            title  \\\n",
       "0  12559756  1633960872       5  Cực kì hài lòng   \n",
       "1  16979365  1657206097       5  Cực kì hài lòng   \n",
       "2  14069617  1640442831       5  Cực kì hài lòng   \n",
       "3  12322259  1632568671       5  Cực kì hài lòng   \n",
       "4  18368714  1670438913       5  Cực kì hài lòng   \n",
       "\n",
       "                                             content  thank_count  \\\n",
       "0  Có những người bước đến, họ lấp đầy hạnh phúc ...          389   \n",
       "1  Thấy nhiều bạn chê tiki gói hàng quá, may sao ...           14   \n",
       "2  Bìa cực xinh, tiki giao hàng nhanh, sách không...           26   \n",
       "3  Nội dung của sách thì không phải bàn đến rồi, ...           16   \n",
       "4  Một cuốn sách rất đáng đọc về tình yêu thương ...            1   \n",
       "\n",
       "        customer_name  customer_id  product_id  seller_product_id  \n",
       "0             Vân Anh     22051463    74021317           74021318  \n",
       "1  Phan Thảo Yến Nhím     27791831    74021317           74021318  \n",
       "2      Trần Thị Trang     17748750    74021317           74021318  \n",
       "3            Khánh Ly     10149686    74021317           74021318  \n",
       "4         Phương Linh     28545286    74021317           74021318  "
      ]
     },
     "execution_count": 3,
     "metadata": {},
     "output_type": "execute_result"
    }
   ],
   "source": [
    "reviews = pd.read_csv('dataset/reviews.csv')\n",
    "reviews.head()"
   ]
  },
  {
   "cell_type": "code",
   "execution_count": 4,
   "metadata": {},
   "outputs": [
    {
     "name": "stdout",
     "output_type": "stream",
     "text": [
      "(2030, 13)\n",
      "(605259, 10)\n"
     ]
    }
   ],
   "source": [
    "print(products.shape)\n",
    "print(reviews.shape)"
   ]
  },
  {
   "cell_type": "markdown",
   "metadata": {},
   "source": [
    "**Dữ liệu được thu thập về từ `tiki`, mô tả về tất cả các sách trong mục `nhà sách tiki`. Gồm hai bộ dữ liệu: `products` và `reviews`.**\n",
    "\n",
    "*`products` gồm các thông tin về sản phẩm sách trong nhà sách tiki.*\n",
    "- Dữ liệu có 2030 dòng và 13 cột. Trong đó:\n",
    "    - `id`: mã sản phẩm\n",
    "    - `name`: tên sản phẩm\n",
    "    - `price`: giá sản phẩm\n",
    "    - `original_price`: giá niêm yết\n",
    "    - `discount_rate`: tỉ lệ giảm giá\n",
    "    - `quantity_sold`: số lượng đã bán\n",
    "    - `rating_average`: đánh giá trung bình\n",
    "    - `review_count`: số lượng đánh giá\n",
    "    - `seller_id`: mã người bán\n",
    "    - `category`: danh mục/thể loại\n",
    "    - `seller_name`: tên người bán\n",
    "    - `author_name`: tác giả\n",
    "    - `spid`: mã sản phẩm\n",
    "\n",
    "*`reviews` gồm các đánh giá về sản phẩm được đề cập trong products.*\n",
    "- Dữ liệu có 605259 dòng và 10 cột. Trong đó:\n",
    "    - `id`: mã đánh giá\n",
    "    - `product_id`: mã sản phẩm\n",
    "    - `rating`: đánh giá\n",
    "    - `content`: nội dung đánh giá\n",
    "    - `author_name`: tên tác giả\n",
    "    - `title`: tiêu đề\n",
    "    - `created_at`: thời gian đánh giá\n",
    "    - `customer_id`: mã khách hàng\n",
    "    - `customer_name`: tên khách hàng\n",
    "    - `thank_count`: số lượng lượt thích đánh giá\n",
    "    - `seller_product_id`: mã sản phẩm của người bán"
   ]
  },
  {
   "cell_type": "markdown",
   "metadata": {},
   "source": [
    "#### 1.1. Duplicated"
   ]
  },
  {
   "cell_type": "markdown",
   "metadata": {},
   "source": [
    "- Xóa cột `spid` vì nó trùng với cột `id`. (`products`)"
   ]
  },
  {
   "cell_type": "code",
   "execution_count": 5,
   "metadata": {},
   "outputs": [],
   "source": [
    "products = products.drop(['spid'], axis=1)"
   ]
  },
  {
   "cell_type": "code",
   "execution_count": 6,
   "metadata": {},
   "outputs": [
    {
     "data": {
      "text/plain": [
       "21"
      ]
     },
     "execution_count": 6,
     "metadata": {},
     "output_type": "execute_result"
    }
   ],
   "source": [
    "products.duplicated().sum()"
   ]
  },
  {
   "cell_type": "markdown",
   "metadata": {},
   "source": [
    "Qua kiểm tra thì có `21` dòng trùng trong tập products. Các dòng này bị trùng trong quá trình thu thập dữ liệu nên ta sẽ xóa đi."
   ]
  },
  {
   "cell_type": "code",
   "execution_count": 7,
   "metadata": {},
   "outputs": [],
   "source": [
    "#products[products['id'].duplicated(keep=False)].sort_values(by='id')\n",
    "products = products.drop_duplicates()"
   ]
  },
  {
   "cell_type": "markdown",
   "metadata": {},
   "source": [
    "Ta sẽ làm tương tự với tập dữ liệu `reviews`."
   ]
  },
  {
   "cell_type": "markdown",
   "metadata": {},
   "source": [
    "Xóa cột `seller_product_id` vì nó trùng với cột `product_id`."
   ]
  },
  {
   "cell_type": "code",
   "execution_count": 8,
   "metadata": {},
   "outputs": [],
   "source": [
    "reviews = reviews.drop(['seller_product_id'], axis=1)"
   ]
  },
  {
   "cell_type": "code",
   "execution_count": 9,
   "metadata": {},
   "outputs": [
    {
     "data": {
      "text/plain": [
       "14774"
      ]
     },
     "execution_count": 9,
     "metadata": {},
     "output_type": "execute_result"
    }
   ],
   "source": [
    "reviews.duplicated().sum()"
   ]
  },
  {
   "cell_type": "markdown",
   "metadata": {},
   "source": [
    "Các dòng này bị trùng trong quá trình thu thập dữ liệu và nó chỉ chiếm khoảng `2,4%` dữ liệu nên ta sẽ xóa đi."
   ]
  },
  {
   "cell_type": "code",
   "execution_count": 10,
   "metadata": {},
   "outputs": [],
   "source": [
    "reviews = reviews.drop_duplicates()"
   ]
  },
  {
   "cell_type": "markdown",
   "metadata": {},
   "source": [
    "Tuy nhiên qua quan sát nhóm thấy ở tập dữ liệu `reviews` trùng nhau ở cột `id` mà nó chỉ khác nhau ở 1 cột. Điều này có thể là do lỗi trong quá trình thu thập dữ liệu nên nhóm sẽ xóa đi các dòng trùng nhau ở tập `reviews`."
   ]
  },
  {
   "cell_type": "code",
   "execution_count": 11,
   "metadata": {},
   "outputs": [
    {
     "data": {
      "text/html": [
       "<div>\n",
       "<style scoped>\n",
       "    .dataframe tbody tr th:only-of-type {\n",
       "        vertical-align: middle;\n",
       "    }\n",
       "\n",
       "    .dataframe tbody tr th {\n",
       "        vertical-align: top;\n",
       "    }\n",
       "\n",
       "    .dataframe thead th {\n",
       "        text-align: right;\n",
       "    }\n",
       "</style>\n",
       "<table border=\"1\" class=\"dataframe\">\n",
       "  <thead>\n",
       "    <tr style=\"text-align: right;\">\n",
       "      <th></th>\n",
       "      <th>id</th>\n",
       "      <th>created_at</th>\n",
       "      <th>rating</th>\n",
       "      <th>title</th>\n",
       "      <th>content</th>\n",
       "      <th>thank_count</th>\n",
       "      <th>customer_name</th>\n",
       "      <th>customer_id</th>\n",
       "      <th>product_id</th>\n",
       "    </tr>\n",
       "  </thead>\n",
       "  <tbody>\n",
       "    <tr>\n",
       "      <th>561250</th>\n",
       "      <td>14779771</td>\n",
       "      <td>1643853610</td>\n",
       "      <td>5</td>\n",
       "      <td>Cực kì hài lòng</td>\n",
       "      <td>NaN</td>\n",
       "      <td>3</td>\n",
       "      <td>Nguyễn Long</td>\n",
       "      <td>12536047</td>\n",
       "      <td>146223395</td>\n",
       "    </tr>\n",
       "    <tr>\n",
       "      <th>561252</th>\n",
       "      <td>14779771</td>\n",
       "      <td>1643853610</td>\n",
       "      <td>5</td>\n",
       "      <td>Cực kì hài lòng</td>\n",
       "      <td>NaN</td>\n",
       "      <td>2</td>\n",
       "      <td>Nguyễn Long</td>\n",
       "      <td>12536047</td>\n",
       "      <td>146223395</td>\n",
       "    </tr>\n",
       "    <tr>\n",
       "      <th>529064</th>\n",
       "      <td>16392632</td>\n",
       "      <td>1653012913</td>\n",
       "      <td>5</td>\n",
       "      <td>Cực kì hài lòng</td>\n",
       "      <td>NaN</td>\n",
       "      <td>0</td>\n",
       "      <td>Trần Dương Minh Quang</td>\n",
       "      <td>7603930</td>\n",
       "      <td>67991600</td>\n",
       "    </tr>\n",
       "    <tr>\n",
       "      <th>529065</th>\n",
       "      <td>16392632</td>\n",
       "      <td>1653012913</td>\n",
       "      <td>5</td>\n",
       "      <td>Cực kì hài lòng</td>\n",
       "      <td>NaN</td>\n",
       "      <td>0</td>\n",
       "      <td>Khách Hàng</td>\n",
       "      <td>7603930</td>\n",
       "      <td>67991600</td>\n",
       "    </tr>\n",
       "  </tbody>\n",
       "</table>\n",
       "</div>"
      ],
      "text/plain": [
       "              id  created_at  rating            title content  thank_count  \\\n",
       "561250  14779771  1643853610       5  Cực kì hài lòng     NaN            3   \n",
       "561252  14779771  1643853610       5  Cực kì hài lòng     NaN            2   \n",
       "529064  16392632  1653012913       5  Cực kì hài lòng     NaN            0   \n",
       "529065  16392632  1653012913       5  Cực kì hài lòng     NaN            0   \n",
       "\n",
       "                customer_name  customer_id  product_id  \n",
       "561250            Nguyễn Long     12536047   146223395  \n",
       "561252            Nguyễn Long     12536047   146223395  \n",
       "529064  Trần Dương Minh Quang      7603930    67991600  \n",
       "529065             Khách Hàng      7603930    67991600  "
      ]
     },
     "execution_count": 11,
     "metadata": {},
     "output_type": "execute_result"
    }
   ],
   "source": [
    "reviews[reviews['id'].duplicated(keep=False)].sort_values(by='id')"
   ]
  },
  {
   "cell_type": "markdown",
   "metadata": {},
   "source": [
    "Xóa 2 hằng có `index` là `561252` và `529065` vì chúng bị trùng với các dòng khác."
   ]
  },
  {
   "cell_type": "code",
   "execution_count": 12,
   "metadata": {},
   "outputs": [],
   "source": [
    "reviews = reviews.drop([56152, 529065])"
   ]
  },
  {
   "cell_type": "markdown",
   "metadata": {},
   "source": [
    "#### 1.2. Missing values"
   ]
  },
  {
   "cell_type": "code",
   "execution_count": 13,
   "metadata": {},
   "outputs": [
    {
     "data": {
      "text/plain": [
       "id                  0\n",
       "name                0\n",
       "price               0\n",
       "original_price      0\n",
       "discount_rate       0\n",
       "quantity_sold       0\n",
       "rating_average      0\n",
       "review_count        0\n",
       "seller_id           0\n",
       "category            0\n",
       "seller_name         2\n",
       "author_name       374\n",
       "dtype: int64"
      ]
     },
     "execution_count": 13,
     "metadata": {},
     "output_type": "execute_result"
    }
   ],
   "source": [
    "products.isnull().sum()"
   ]
  },
  {
   "cell_type": "markdown",
   "metadata": {},
   "source": [
    "Cột `seller_name` bị thiếu có thể là do các sản phẩm này không có tên người bán hoặc do lỗi trong quá trình thu thập dữ liệu. Qua kiểm tra thì nhóm phát hiện 1 giá trị bị thiếu ở cột `seller_name` có giá trị `seller_id` của 1 người bán. Nhóm sẽ thay thế giá trị này bằng tên người bán tương ứng. Còn giá trị thiếu còn lại thì không trùng `seller_id` nên nhóm sẽ thay thế bằng `seller_id` tướng ứng."
   ]
  },
  {
   "cell_type": "code",
   "execution_count": 14,
   "metadata": {},
   "outputs": [],
   "source": [
    "products['seller_name'] = products.apply(lambda row: products[products['seller_id']==row['seller_id']]['seller_name'].iloc[0] \n",
    "                                         if pd.isnull(row['seller_name']) else row['seller_name'], axis=1)"
   ]
  },
  {
   "cell_type": "code",
   "execution_count": 15,
   "metadata": {},
   "outputs": [],
   "source": [
    "products['seller_name'].fillna(products['seller_id'], inplace=True)"
   ]
  },
  {
   "cell_type": "markdown",
   "metadata": {},
   "source": [
    "Qua kiểm tra các giá trị thiếu của cột `author_name` là do các sản phẩm không có tên tác giả. Ta sẽ thay thế các giá trị này bằng `Unknown`."
   ]
  },
  {
   "cell_type": "code",
   "execution_count": 16,
   "metadata": {},
   "outputs": [],
   "source": [
    "products['author_name'].fillna('Unknown', inplace=True)"
   ]
  },
  {
   "cell_type": "code",
   "execution_count": 17,
   "metadata": {},
   "outputs": [
    {
     "data": {
      "text/plain": [
       "id                0\n",
       "name              0\n",
       "price             0\n",
       "original_price    0\n",
       "discount_rate     0\n",
       "quantity_sold     0\n",
       "rating_average    0\n",
       "review_count      0\n",
       "seller_id         0\n",
       "category          0\n",
       "seller_name       0\n",
       "author_name       0\n",
       "dtype: int64"
      ]
     },
     "execution_count": 17,
     "metadata": {},
     "output_type": "execute_result"
    }
   ],
   "source": [
    "products.isnull().sum()"
   ]
  },
  {
   "cell_type": "code",
   "execution_count": 18,
   "metadata": {},
   "outputs": [
    {
     "data": {
      "text/plain": [
       "id                    0\n",
       "created_at            0\n",
       "rating                0\n",
       "title                 5\n",
       "content          392619\n",
       "thank_count           0\n",
       "customer_name      6879\n",
       "customer_id           0\n",
       "product_id            0\n",
       "dtype: int64"
      ]
     },
     "execution_count": 18,
     "metadata": {},
     "output_type": "execute_result"
    }
   ],
   "source": [
    "reviews.isnull().sum()"
   ]
  },
  {
   "cell_type": "code",
   "execution_count": 19,
   "metadata": {},
   "outputs": [
    {
     "data": {
      "text/html": [
       "<div>\n",
       "<style scoped>\n",
       "    .dataframe tbody tr th:only-of-type {\n",
       "        vertical-align: middle;\n",
       "    }\n",
       "\n",
       "    .dataframe tbody tr th {\n",
       "        vertical-align: top;\n",
       "    }\n",
       "\n",
       "    .dataframe thead th {\n",
       "        text-align: right;\n",
       "    }\n",
       "</style>\n",
       "<table border=\"1\" class=\"dataframe\">\n",
       "  <thead>\n",
       "    <tr style=\"text-align: right;\">\n",
       "      <th></th>\n",
       "      <th>id</th>\n",
       "      <th>created_at</th>\n",
       "      <th>rating</th>\n",
       "      <th>title</th>\n",
       "      <th>content</th>\n",
       "      <th>thank_count</th>\n",
       "      <th>customer_name</th>\n",
       "      <th>customer_id</th>\n",
       "      <th>product_id</th>\n",
       "    </tr>\n",
       "  </thead>\n",
       "  <tbody>\n",
       "    <tr>\n",
       "      <th>0</th>\n",
       "      <td>12559756</td>\n",
       "      <td>1633960872</td>\n",
       "      <td>5</td>\n",
       "      <td>Cực kì hài lòng</td>\n",
       "      <td>Có những người bước đến, họ lấp đầy hạnh phúc ...</td>\n",
       "      <td>389</td>\n",
       "      <td>Vân Anh</td>\n",
       "      <td>22051463</td>\n",
       "      <td>74021317</td>\n",
       "    </tr>\n",
       "    <tr>\n",
       "      <th>1</th>\n",
       "      <td>16979365</td>\n",
       "      <td>1657206097</td>\n",
       "      <td>5</td>\n",
       "      <td>Cực kì hài lòng</td>\n",
       "      <td>Thấy nhiều bạn chê tiki gói hàng quá, may sao ...</td>\n",
       "      <td>14</td>\n",
       "      <td>Phan Thảo Yến Nhím</td>\n",
       "      <td>27791831</td>\n",
       "      <td>74021317</td>\n",
       "    </tr>\n",
       "    <tr>\n",
       "      <th>2</th>\n",
       "      <td>14069617</td>\n",
       "      <td>1640442831</td>\n",
       "      <td>5</td>\n",
       "      <td>Cực kì hài lòng</td>\n",
       "      <td>Bìa cực xinh, tiki giao hàng nhanh, sách không...</td>\n",
       "      <td>26</td>\n",
       "      <td>Trần Thị Trang</td>\n",
       "      <td>17748750</td>\n",
       "      <td>74021317</td>\n",
       "    </tr>\n",
       "    <tr>\n",
       "      <th>3</th>\n",
       "      <td>12322259</td>\n",
       "      <td>1632568671</td>\n",
       "      <td>5</td>\n",
       "      <td>Cực kì hài lòng</td>\n",
       "      <td>Nội dung của sách thì không phải bàn đến rồi, ...</td>\n",
       "      <td>16</td>\n",
       "      <td>Khánh Ly</td>\n",
       "      <td>10149686</td>\n",
       "      <td>74021317</td>\n",
       "    </tr>\n",
       "    <tr>\n",
       "      <th>4</th>\n",
       "      <td>18368714</td>\n",
       "      <td>1670438913</td>\n",
       "      <td>5</td>\n",
       "      <td>Cực kì hài lòng</td>\n",
       "      <td>Một cuốn sách rất đáng đọc về tình yêu thương ...</td>\n",
       "      <td>1</td>\n",
       "      <td>Phương Linh</td>\n",
       "      <td>28545286</td>\n",
       "      <td>74021317</td>\n",
       "    </tr>\n",
       "    <tr>\n",
       "      <th>...</th>\n",
       "      <td>...</td>\n",
       "      <td>...</td>\n",
       "      <td>...</td>\n",
       "      <td>...</td>\n",
       "      <td>...</td>\n",
       "      <td>...</td>\n",
       "      <td>...</td>\n",
       "      <td>...</td>\n",
       "      <td>...</td>\n",
       "    </tr>\n",
       "    <tr>\n",
       "      <th>605249</th>\n",
       "      <td>9561654</td>\n",
       "      <td>1620393883</td>\n",
       "      <td>5</td>\n",
       "      <td>Cực kì hài lòng</td>\n",
       "      <td>NaN</td>\n",
       "      <td>0</td>\n",
       "      <td>HaThuy Vu</td>\n",
       "      <td>10750423</td>\n",
       "      <td>75996803</td>\n",
       "    </tr>\n",
       "    <tr>\n",
       "      <th>605250</th>\n",
       "      <td>9554276</td>\n",
       "      <td>1620370994</td>\n",
       "      <td>5</td>\n",
       "      <td>Cực kì hài lòng</td>\n",
       "      <td>NaN</td>\n",
       "      <td>0</td>\n",
       "      <td>Luu Quynh Huong</td>\n",
       "      <td>14854794</td>\n",
       "      <td>75996803</td>\n",
       "    </tr>\n",
       "    <tr>\n",
       "      <th>605251</th>\n",
       "      <td>9022442</td>\n",
       "      <td>1618119132</td>\n",
       "      <td>5</td>\n",
       "      <td>Cực kì hài lòng</td>\n",
       "      <td>NaN</td>\n",
       "      <td>0</td>\n",
       "      <td>vo nhan</td>\n",
       "      <td>6698905</td>\n",
       "      <td>75996803</td>\n",
       "    </tr>\n",
       "    <tr>\n",
       "      <th>605252</th>\n",
       "      <td>8726727</td>\n",
       "      <td>1616919902</td>\n",
       "      <td>5</td>\n",
       "      <td>Cực kì hài lòng</td>\n",
       "      <td>NaN</td>\n",
       "      <td>0</td>\n",
       "      <td>Xuân Xuân</td>\n",
       "      <td>5668673</td>\n",
       "      <td>75996803</td>\n",
       "    </tr>\n",
       "    <tr>\n",
       "      <th>605253</th>\n",
       "      <td>7517182</td>\n",
       "      <td>1612414399</td>\n",
       "      <td>5</td>\n",
       "      <td>Cực kì hài lòng</td>\n",
       "      <td>NaN</td>\n",
       "      <td>0</td>\n",
       "      <td>Tô Nhung</td>\n",
       "      <td>11878</td>\n",
       "      <td>75996803</td>\n",
       "    </tr>\n",
       "  </tbody>\n",
       "</table>\n",
       "<p>518401 rows × 9 columns</p>\n",
       "</div>"
      ],
      "text/plain": [
       "              id  created_at  rating            title  \\\n",
       "0       12559756  1633960872       5  Cực kì hài lòng   \n",
       "1       16979365  1657206097       5  Cực kì hài lòng   \n",
       "2       14069617  1640442831       5  Cực kì hài lòng   \n",
       "3       12322259  1632568671       5  Cực kì hài lòng   \n",
       "4       18368714  1670438913       5  Cực kì hài lòng   \n",
       "...          ...         ...     ...              ...   \n",
       "605249   9561654  1620393883       5  Cực kì hài lòng   \n",
       "605250   9554276  1620370994       5  Cực kì hài lòng   \n",
       "605251   9022442  1618119132       5  Cực kì hài lòng   \n",
       "605252   8726727  1616919902       5  Cực kì hài lòng   \n",
       "605253   7517182  1612414399       5  Cực kì hài lòng   \n",
       "\n",
       "                                                  content  thank_count  \\\n",
       "0       Có những người bước đến, họ lấp đầy hạnh phúc ...          389   \n",
       "1       Thấy nhiều bạn chê tiki gói hàng quá, may sao ...           14   \n",
       "2       Bìa cực xinh, tiki giao hàng nhanh, sách không...           26   \n",
       "3       Nội dung của sách thì không phải bàn đến rồi, ...           16   \n",
       "4       Một cuốn sách rất đáng đọc về tình yêu thương ...            1   \n",
       "...                                                   ...          ...   \n",
       "605249                                                NaN            0   \n",
       "605250                                                NaN            0   \n",
       "605251                                                NaN            0   \n",
       "605252                                                NaN            0   \n",
       "605253                                                NaN            0   \n",
       "\n",
       "             customer_name  customer_id  product_id  \n",
       "0                  Vân Anh     22051463    74021317  \n",
       "1       Phan Thảo Yến Nhím     27791831    74021317  \n",
       "2           Trần Thị Trang     17748750    74021317  \n",
       "3                 Khánh Ly     10149686    74021317  \n",
       "4              Phương Linh     28545286    74021317  \n",
       "...                    ...          ...         ...  \n",
       "605249           HaThuy Vu     10750423    75996803  \n",
       "605250     Luu Quynh Huong     14854794    75996803  \n",
       "605251             vo nhan      6698905    75996803  \n",
       "605252           Xuân Xuân      5668673    75996803  \n",
       "605253            Tô Nhung        11878    75996803  \n",
       "\n",
       "[518401 rows x 9 columns]"
      ]
     },
     "execution_count": 19,
     "metadata": {},
     "output_type": "execute_result"
    }
   ],
   "source": [
    "reviews[((reviews['rating']==5) )]"
   ]
  },
  {
   "cell_type": "markdown",
   "metadata": {},
   "source": [
    "Ở cột `title` bị thiếu có thể là do người dùng không muốn để lại bình luận. Qua quan sát thì cát giá trị này điều có `rating` là `5`. Ngoài ra thì các có dòng có `rating` là `5` thì `title` không bị thiếu đa phần là `Cực kỳ hài lòng` còn lại là `Hài lòng`, ... Nên nhóm sẽ thay thế các giá trị thiếu bằng `Cực kỳ hài lòng`."
   ]
  },
  {
   "cell_type": "code",
   "execution_count": 20,
   "metadata": {},
   "outputs": [],
   "source": [
    "reviews['title'] = reviews['title'].fillna('Cực kỳ hài lòng')"
   ]
  },
  {
   "cell_type": "markdown",
   "metadata": {},
   "source": [
    "Ở cột `customer_name` nhóm sẽ thay thế các giá trị thiếu bằng những `customer_name` có giá tương ứng dựa vào `customer_id`. Tuy nhiên cũng có một số `customer_id` không có `customer_name` tương ứng. Nhóm sẽ thay thế các giá trị này bằng giá trị của `customer_id`."
   ]
  },
  {
   "cell_type": "code",
   "execution_count": 21,
   "metadata": {},
   "outputs": [],
   "source": [
    "def fill_na(row):\n",
    "    if pd.isnull(row['customer_name']):\n",
    "        rows = reviews[(reviews['customer_id'] == row['customer_id']) & (reviews['customer_name'].notnull())]\n",
    "        if not rows.empty:\n",
    "            return rows['customer_name'].iloc[0]\n",
    "        else:\n",
    "            return row['customer_id']\n",
    "    else:\n",
    "        return row['customer_name']"
   ]
  },
  {
   "cell_type": "code",
   "execution_count": 22,
   "metadata": {},
   "outputs": [],
   "source": [
    "reviews['customer_name'] = reviews.apply(fill_na, axis=1)"
   ]
  },
  {
   "cell_type": "code",
   "execution_count": 23,
   "metadata": {},
   "outputs": [],
   "source": [
    "reviews['customer_name'].fillna(reviews['customer_id'], inplace=True)"
   ]
  },
  {
   "cell_type": "markdown",
   "metadata": {},
   "source": [
    "Ở cột `content` bị thiếu có thể là do người dùng không muốn để lại bình luận. Ta sẽ thay thế các giá trị này bằng `No comment`."
   ]
  },
  {
   "cell_type": "code",
   "execution_count": 24,
   "metadata": {},
   "outputs": [],
   "source": [
    "reviews['content'].fillna('No comment', inplace=True)"
   ]
  },
  {
   "cell_type": "code",
   "execution_count": 25,
   "metadata": {},
   "outputs": [
    {
     "data": {
      "text/plain": [
       "id               0\n",
       "created_at       0\n",
       "rating           0\n",
       "title            0\n",
       "content          0\n",
       "thank_count      0\n",
       "customer_name    0\n",
       "customer_id      0\n",
       "product_id       0\n",
       "dtype: int64"
      ]
     },
     "execution_count": 25,
     "metadata": {},
     "output_type": "execute_result"
    }
   ],
   "source": [
    "reviews.isnull().sum()"
   ]
  },
  {
   "cell_type": "markdown",
   "metadata": {},
   "source": [
    "#### 1.3. Data type"
   ]
  },
  {
   "cell_type": "code",
   "execution_count": 26,
   "metadata": {},
   "outputs": [
    {
     "data": {
      "text/plain": [
       "id                               {<class 'int'>}\n",
       "name                             {<class 'str'>}\n",
       "price                            {<class 'int'>}\n",
       "original_price                   {<class 'int'>}\n",
       "discount_rate                    {<class 'int'>}\n",
       "quantity_sold                    {<class 'int'>}\n",
       "rating_average                 {<class 'float'>}\n",
       "review_count                     {<class 'int'>}\n",
       "seller_id                        {<class 'int'>}\n",
       "category                         {<class 'str'>}\n",
       "seller_name       {<class 'str'>, <class 'int'>}\n",
       "author_name                      {<class 'str'>}\n",
       "dtype: object"
      ]
     },
     "execution_count": 26,
     "metadata": {},
     "output_type": "execute_result"
    }
   ],
   "source": [
    "def open_object_dtype(s):\n",
    "    dtypes = set(s.apply(lambda item : type(item)))\n",
    "    return dtypes\n",
    "\n",
    "products.apply(open_object_dtype)"
   ]
  },
  {
   "cell_type": "markdown",
   "metadata": {},
   "source": [
    "Chuyển kiểu dữ liệu cột `seller_name` sang kiểu `str` và đổi tên cột `id` --> thành `product_id`."
   ]
  },
  {
   "cell_type": "code",
   "execution_count": 27,
   "metadata": {},
   "outputs": [],
   "source": [
    "products['seller_name'] = products['seller_name'].astype('str')"
   ]
  },
  {
   "cell_type": "code",
   "execution_count": 28,
   "metadata": {},
   "outputs": [],
   "source": [
    "products = products.rename(columns={'id':'product_id'})"
   ]
  },
  {
   "cell_type": "markdown",
   "metadata": {},
   "source": [
    "Chuyển dữ liệu của các cột categorical sang viết thường, xóa khoảng trắng ở đầu và cuối, xoá các dấu câu, các kí tự đặc biệt và xóa khoảng trắng dư thừa."
   ]
  },
  {
   "cell_type": "code",
   "execution_count": 29,
   "metadata": {},
   "outputs": [],
   "source": [
    "products['category'] = products['category'].str.replace('- ', '')\n",
    "products['category'] = products['category'].str.replace(',', '')\n",
    "products['category'] = products['category'].str.lower().str.strip()"
   ]
  },
  {
   "cell_type": "markdown",
   "metadata": {},
   "source": [
    "Ngoài ra nhóm còn phát hiện các lỗi chính tả khác trong cột `author_name`. Nhóm sẽ thay thế các giá trị này bằng các giá trị đúng."
   ]
  },
  {
   "cell_type": "code",
   "execution_count": 30,
   "metadata": {},
   "outputs": [],
   "source": [
    "products['author_name'] = products['author_name'].str.replace('Choi Kwanghuyn', 'Choi Kwanghyun')\n",
    "products['author_name'] = products['author_name'].str.replace('Song Hong Binh', 'Song Hong Bing')\n",
    "products['author_name'] = products['author_name'].str.replace('Rhowa Byrne', 'Rhonda Byrne')\n",
    "products['author_name'] = products['author_name'].str.replace('Khailed Hosseini', 'Khaled Hosseini')\n",
    "products['author_name'] = products['author_name'].str.replace('nhieu tac gia', 'Nhiều tác giả')"
   ]
  },
  {
   "cell_type": "code",
   "execution_count": 31,
   "metadata": {},
   "outputs": [
    {
     "name": "stderr",
     "output_type": "stream",
     "text": [
      "C:\\Users\\HoaTX\\AppData\\Local\\Temp\\ipykernel_4684\\3755146916.py:2: FutureWarning: The default value of regex will change from True to False in a future version. In addition, single character regular expressions will *not* be treated as literal strings when regex=True.\n",
      "  products['author_name'] = products['author_name'].str.replace('.', '')\n"
     ]
    }
   ],
   "source": [
    "products['author_name'] = products['author_name'].str.replace('-', ' ')\n",
    "products['author_name'] = products['author_name'].str.replace('.', '')"
   ]
  },
  {
   "cell_type": "code",
   "execution_count": 32,
   "metadata": {},
   "outputs": [],
   "source": [
    "products['author_name'] = products['author_name'].str.replace('Baird TSpalding', 'Baird T Spalding')\n",
    "products['author_name'] = products['author_name'].str.replace('Briad LWeiss', 'Briad L Weiss')\n",
    "products['author_name'] = products['author_name'].str.replace('Robert TKiyosaki', 'Robert T Kiyosaki')\n",
    "products['author_name'] = products['author_name'].str.replace('Stephen MRCovey', 'Stephen RCovey')\n",
    "products['author_name'] = products['author_name'].str.lower().str.strip()"
   ]
  },
  {
   "cell_type": "code",
   "execution_count": 33,
   "metadata": {},
   "outputs": [
    {
     "name": "stdout",
     "output_type": "stream",
     "text": [
      "<class 'pandas.core.frame.DataFrame'>\n",
      "Int64Index: 590483 entries, 0 to 605258\n",
      "Data columns (total 9 columns):\n",
      " #   Column         Non-Null Count   Dtype \n",
      "---  ------         --------------   ----- \n",
      " 0   id             590483 non-null  int64 \n",
      " 1   created_at     590483 non-null  int64 \n",
      " 2   rating         590483 non-null  int64 \n",
      " 3   title          590483 non-null  object\n",
      " 4   content        590483 non-null  object\n",
      " 5   thank_count    590483 non-null  int64 \n",
      " 6   customer_name  590483 non-null  object\n",
      " 7   customer_id    590483 non-null  int64 \n",
      " 8   product_id     590483 non-null  int64 \n",
      "dtypes: int64(6), object(3)\n",
      "memory usage: 45.1+ MB\n"
     ]
    }
   ],
   "source": [
    "reviews.info()"
   ]
  },
  {
   "cell_type": "markdown",
   "metadata": {},
   "source": [
    "Chuyển kiểu dữ liệu cột `customer_name` sang kiểu `str`."
   ]
  },
  {
   "cell_type": "code",
   "execution_count": 34,
   "metadata": {},
   "outputs": [],
   "source": [
    "reviews['customer_name'] = reviews['customer_name'].astype('str')"
   ]
  },
  {
   "cell_type": "markdown",
   "metadata": {},
   "source": [
    "Chuyển kiểu dữ liệu cột `created_at` sang kiểu `datetime` và thêm các cột `year`, `month`, `day`, `weekend`, `hour` để phân tích dữ liệu."
   ]
  },
  {
   "cell_type": "code",
   "execution_count": 35,
   "metadata": {},
   "outputs": [],
   "source": [
    "reviews['created_at'] = pd.to_datetime(reviews['created_at'], unit='s')"
   ]
  },
  {
   "cell_type": "code",
   "execution_count": 36,
   "metadata": {},
   "outputs": [],
   "source": [
    "reviews['year'] = reviews['created_at'].dt.year\n",
    "reviews['month'] = reviews['created_at'].dt.month\n",
    "reviews['day'] = reviews['created_at'].dt.day\n",
    "reviews['hour'] = reviews['created_at'].dt.hour\n",
    "reviews['weekday'] = reviews['created_at'].dt.weekday"
   ]
  },
  {
   "cell_type": "code",
   "execution_count": 37,
   "metadata": {},
   "outputs": [],
   "source": [
    "#weekday = {0: 'Monday', 1: 'Tuesday', 2: 'Wednesday', 3: 'Thursday', 4: 'Friday', 5: 'Saturday', 6: 'Sunday'}\n",
    "#reviews['weekday'] = reviews['weekday'].replace(weekday)"
   ]
  },
  {
   "cell_type": "markdown",
   "metadata": {},
   "source": [
    "#### 1.4. Outliers"
   ]
  },
  {
   "cell_type": "markdown",
   "metadata": {},
   "source": [
    "Qua kiểm tra thì dữ liệu không có Outlier."
   ]
  },
  {
   "cell_type": "markdown",
   "metadata": {},
   "source": [
    "#### 1.5. Save data"
   ]
  },
  {
   "cell_type": "code",
   "execution_count": 38,
   "metadata": {},
   "outputs": [
    {
     "name": "stdout",
     "output_type": "stream",
     "text": [
      "(2009, 12)\n",
      "(590483, 14)\n"
     ]
    }
   ],
   "source": [
    "print(products.shape)\n",
    "print(reviews.shape)"
   ]
  },
  {
   "cell_type": "markdown",
   "metadata": {},
   "source": [
    "Sau quá trình xử lý dữ liệu, `products` còn `2009 dòng` và `12 cột` và `reviews` còn `590483 dòng` và `14 cột`."
   ]
  },
  {
   "cell_type": "code",
   "execution_count": 39,
   "metadata": {},
   "outputs": [],
   "source": [
    "df = pd.merge(reviews, products, on='product_id')"
   ]
  },
  {
   "cell_type": "markdown",
   "metadata": {},
   "source": [
    "**Câu lệnh bên dưới chỉ thực hiện một lần duy nhất trên máy một thành viên duy nhất. Sau khi thực hiện, tiến hành lưu trữ df thành file csv, các thành viên khác chỉ cần load file này vào là được, không cần chạy lại câu lệnh `to_csv` để tránh mất thời gian.**"
   ]
  },
  {
   "cell_type": "code",
   "execution_count": 40,
   "metadata": {},
   "outputs": [],
   "source": [
    "products.to_csv('dataset/products_clean.csv', index=False)\n",
    "reviews.to_csv('dataset/reviews_clean.csv', index=False)"
   ]
  },
  {
   "cell_type": "code",
   "execution_count": 41,
   "metadata": {},
   "outputs": [],
   "source": [
    "df.to_csv('dataset/merged_data.csv', index=False)"
   ]
  }
 ],
 "metadata": {
  "kernelspec": {
   "display_name": "base",
   "language": "python",
   "name": "python3"
  },
  "language_info": {
   "codemirror_mode": {
    "name": "ipython",
    "version": 3
   },
   "file_extension": ".py",
   "mimetype": "text/x-python",
   "name": "python",
   "nbconvert_exporter": "python",
   "pygments_lexer": "ipython3",
   "version": "3.10.9"
  }
 },
 "nbformat": 4,
 "nbformat_minor": 2
}

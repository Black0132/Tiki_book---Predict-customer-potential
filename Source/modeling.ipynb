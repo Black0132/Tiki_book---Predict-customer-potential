{
 "cells": [
  {
   "cell_type": "markdown",
   "metadata": {},
   "source": [
    "# PROJECT\n",
    "## Applications of Big Data"
   ]
  },
  {
   "cell_type": "markdown",
   "metadata": {},
   "source": [
    "### 0. Importing libraries"
   ]
  },
  {
   "cell_type": "code",
   "execution_count": 1,
   "metadata": {},
   "outputs": [],
   "source": [
    "import pandas as pd\n",
    "import numpy as np\n",
    "import matplotlib.pyplot as plt\n",
    "import seaborn as sns\n",
    "\n",
    "from sklearn.metrics import recall_score, precision_score, f1_score, accuracy_score\n",
    "from sklearn.model_selection import train_test_split\n",
    "from sklearn.preprocessing import LabelEncoder\n",
    "from sklearn.model_selection import GridSearchCV\n",
    "from sklearn.decomposition import PCA\n",
    "\n",
    "from sklearn.tree import DecisionTreeClassifier\n",
    "from sklearn.naive_bayes import MultinomialNB\n",
    "from sklearn.svm import SVC\n",
    "from sklearn.linear_model import LogisticRegression\n",
    "from sklearn.ensemble import RandomForestClassifier\n",
    "from sklearn.ensemble import GradientBoostingClassifier"
   ]
  },
  {
   "cell_type": "code",
   "execution_count": 2,
   "metadata": {},
   "outputs": [
    {
     "data": {
      "text/plain": [
       "Index(['id', 'created_at', 'rating', 'title', 'content', 'thank_count',\n",
       "       'customer_name', 'customer_id', 'product_id', 'year', 'month', 'day',\n",
       "       'hour', 'weekday', 'name', 'price', 'original_price', 'discount_rate',\n",
       "       'quantity_sold', 'rating_average', 'review_count', 'seller_id',\n",
       "       'category', 'seller_name', 'author_name'],\n",
       "      dtype='object')"
      ]
     },
     "execution_count": 2,
     "metadata": {},
     "output_type": "execute_result"
    }
   ],
   "source": [
    "df = pd.read_csv('dataset/merged_data.csv')\n",
    "df.columns"
   ]
  },
  {
   "cell_type": "code",
   "execution_count": 3,
   "metadata": {},
   "outputs": [
    {
     "data": {
      "text/html": [
       "<div>\n",
       "<style scoped>\n",
       "    .dataframe tbody tr th:only-of-type {\n",
       "        vertical-align: middle;\n",
       "    }\n",
       "\n",
       "    .dataframe tbody tr th {\n",
       "        vertical-align: top;\n",
       "    }\n",
       "\n",
       "    .dataframe thead th {\n",
       "        text-align: right;\n",
       "    }\n",
       "</style>\n",
       "<table border=\"1\" class=\"dataframe\">\n",
       "  <thead>\n",
       "    <tr style=\"text-align: right;\">\n",
       "      <th></th>\n",
       "      <th>id</th>\n",
       "      <th>created_at</th>\n",
       "      <th>rating</th>\n",
       "      <th>title</th>\n",
       "      <th>content</th>\n",
       "      <th>thank_count</th>\n",
       "      <th>customer_name</th>\n",
       "      <th>customer_id</th>\n",
       "      <th>product_id</th>\n",
       "      <th>year</th>\n",
       "      <th>...</th>\n",
       "      <th>price</th>\n",
       "      <th>original_price</th>\n",
       "      <th>discount_rate</th>\n",
       "      <th>quantity_sold</th>\n",
       "      <th>rating_average</th>\n",
       "      <th>review_count</th>\n",
       "      <th>seller_id</th>\n",
       "      <th>category</th>\n",
       "      <th>seller_name</th>\n",
       "      <th>author_name</th>\n",
       "    </tr>\n",
       "  </thead>\n",
       "  <tbody>\n",
       "    <tr>\n",
       "      <th>0</th>\n",
       "      <td>12559756</td>\n",
       "      <td>2021-10-11 14:01:12</td>\n",
       "      <td>5</td>\n",
       "      <td>Cực kì hài lòng</td>\n",
       "      <td>Có những người bước đến, họ lấp đầy hạnh phúc ...</td>\n",
       "      <td>389</td>\n",
       "      <td>Vân Anh</td>\n",
       "      <td>22051463</td>\n",
       "      <td>74021317</td>\n",
       "      <td>2021</td>\n",
       "      <td>...</td>\n",
       "      <td>68040</td>\n",
       "      <td>108000</td>\n",
       "      <td>37</td>\n",
       "      <td>70416</td>\n",
       "      <td>5.0</td>\n",
       "      <td>13151</td>\n",
       "      <td>1</td>\n",
       "      <td>tiểu thuyết</td>\n",
       "      <td>Tiki Trading</td>\n",
       "      <td>josé mauro de vasconcelos</td>\n",
       "    </tr>\n",
       "    <tr>\n",
       "      <th>1</th>\n",
       "      <td>16979365</td>\n",
       "      <td>2022-07-07 15:01:37</td>\n",
       "      <td>5</td>\n",
       "      <td>Cực kì hài lòng</td>\n",
       "      <td>Thấy nhiều bạn chê tiki gói hàng quá, may sao ...</td>\n",
       "      <td>14</td>\n",
       "      <td>Phan Thảo Yến Nhím</td>\n",
       "      <td>27791831</td>\n",
       "      <td>74021317</td>\n",
       "      <td>2022</td>\n",
       "      <td>...</td>\n",
       "      <td>68040</td>\n",
       "      <td>108000</td>\n",
       "      <td>37</td>\n",
       "      <td>70416</td>\n",
       "      <td>5.0</td>\n",
       "      <td>13151</td>\n",
       "      <td>1</td>\n",
       "      <td>tiểu thuyết</td>\n",
       "      <td>Tiki Trading</td>\n",
       "      <td>josé mauro de vasconcelos</td>\n",
       "    </tr>\n",
       "    <tr>\n",
       "      <th>2</th>\n",
       "      <td>14069617</td>\n",
       "      <td>2021-12-25 14:33:51</td>\n",
       "      <td>5</td>\n",
       "      <td>Cực kì hài lòng</td>\n",
       "      <td>Bìa cực xinh, tiki giao hàng nhanh, sách không...</td>\n",
       "      <td>26</td>\n",
       "      <td>Trần Thị Trang</td>\n",
       "      <td>17748750</td>\n",
       "      <td>74021317</td>\n",
       "      <td>2021</td>\n",
       "      <td>...</td>\n",
       "      <td>68040</td>\n",
       "      <td>108000</td>\n",
       "      <td>37</td>\n",
       "      <td>70416</td>\n",
       "      <td>5.0</td>\n",
       "      <td>13151</td>\n",
       "      <td>1</td>\n",
       "      <td>tiểu thuyết</td>\n",
       "      <td>Tiki Trading</td>\n",
       "      <td>josé mauro de vasconcelos</td>\n",
       "    </tr>\n",
       "    <tr>\n",
       "      <th>3</th>\n",
       "      <td>12322259</td>\n",
       "      <td>2021-09-25 11:17:51</td>\n",
       "      <td>5</td>\n",
       "      <td>Cực kì hài lòng</td>\n",
       "      <td>Nội dung của sách thì không phải bàn đến rồi, ...</td>\n",
       "      <td>16</td>\n",
       "      <td>Khánh Ly</td>\n",
       "      <td>10149686</td>\n",
       "      <td>74021317</td>\n",
       "      <td>2021</td>\n",
       "      <td>...</td>\n",
       "      <td>68040</td>\n",
       "      <td>108000</td>\n",
       "      <td>37</td>\n",
       "      <td>70416</td>\n",
       "      <td>5.0</td>\n",
       "      <td>13151</td>\n",
       "      <td>1</td>\n",
       "      <td>tiểu thuyết</td>\n",
       "      <td>Tiki Trading</td>\n",
       "      <td>josé mauro de vasconcelos</td>\n",
       "    </tr>\n",
       "    <tr>\n",
       "      <th>4</th>\n",
       "      <td>18368714</td>\n",
       "      <td>2022-12-07 18:48:33</td>\n",
       "      <td>5</td>\n",
       "      <td>Cực kì hài lòng</td>\n",
       "      <td>Một cuốn sách rất đáng đọc về tình yêu thương ...</td>\n",
       "      <td>1</td>\n",
       "      <td>Phương Linh</td>\n",
       "      <td>28545286</td>\n",
       "      <td>74021317</td>\n",
       "      <td>2022</td>\n",
       "      <td>...</td>\n",
       "      <td>68040</td>\n",
       "      <td>108000</td>\n",
       "      <td>37</td>\n",
       "      <td>70416</td>\n",
       "      <td>5.0</td>\n",
       "      <td>13151</td>\n",
       "      <td>1</td>\n",
       "      <td>tiểu thuyết</td>\n",
       "      <td>Tiki Trading</td>\n",
       "      <td>josé mauro de vasconcelos</td>\n",
       "    </tr>\n",
       "  </tbody>\n",
       "</table>\n",
       "<p>5 rows × 25 columns</p>\n",
       "</div>"
      ],
      "text/plain": [
       "         id           created_at  rating            title  \\\n",
       "0  12559756  2021-10-11 14:01:12       5  Cực kì hài lòng   \n",
       "1  16979365  2022-07-07 15:01:37       5  Cực kì hài lòng   \n",
       "2  14069617  2021-12-25 14:33:51       5  Cực kì hài lòng   \n",
       "3  12322259  2021-09-25 11:17:51       5  Cực kì hài lòng   \n",
       "4  18368714  2022-12-07 18:48:33       5  Cực kì hài lòng   \n",
       "\n",
       "                                             content  thank_count  \\\n",
       "0  Có những người bước đến, họ lấp đầy hạnh phúc ...          389   \n",
       "1  Thấy nhiều bạn chê tiki gói hàng quá, may sao ...           14   \n",
       "2  Bìa cực xinh, tiki giao hàng nhanh, sách không...           26   \n",
       "3  Nội dung của sách thì không phải bàn đến rồi, ...           16   \n",
       "4  Một cuốn sách rất đáng đọc về tình yêu thương ...            1   \n",
       "\n",
       "        customer_name  customer_id  product_id  year  ...  price  \\\n",
       "0             Vân Anh     22051463    74021317  2021  ...  68040   \n",
       "1  Phan Thảo Yến Nhím     27791831    74021317  2022  ...  68040   \n",
       "2      Trần Thị Trang     17748750    74021317  2021  ...  68040   \n",
       "3            Khánh Ly     10149686    74021317  2021  ...  68040   \n",
       "4         Phương Linh     28545286    74021317  2022  ...  68040   \n",
       "\n",
       "   original_price  discount_rate  quantity_sold rating_average  review_count  \\\n",
       "0          108000             37          70416            5.0         13151   \n",
       "1          108000             37          70416            5.0         13151   \n",
       "2          108000             37          70416            5.0         13151   \n",
       "3          108000             37          70416            5.0         13151   \n",
       "4          108000             37          70416            5.0         13151   \n",
       "\n",
       "   seller_id     category   seller_name                author_name  \n",
       "0          1  tiểu thuyết  Tiki Trading  josé mauro de vasconcelos  \n",
       "1          1  tiểu thuyết  Tiki Trading  josé mauro de vasconcelos  \n",
       "2          1  tiểu thuyết  Tiki Trading  josé mauro de vasconcelos  \n",
       "3          1  tiểu thuyết  Tiki Trading  josé mauro de vasconcelos  \n",
       "4          1  tiểu thuyết  Tiki Trading  josé mauro de vasconcelos  \n",
       "\n",
       "[5 rows x 25 columns]"
      ]
     },
     "execution_count": 3,
     "metadata": {},
     "output_type": "execute_result"
    }
   ],
   "source": [
    "df.head()"
   ]
  },
  {
   "cell_type": "code",
   "execution_count": 4,
   "metadata": {},
   "outputs": [
    {
     "data": {
      "text/plain": [
       "(590483, 25)"
      ]
     },
     "execution_count": 4,
     "metadata": {},
     "output_type": "execute_result"
    }
   ],
   "source": [
    "df.shape"
   ]
  },
  {
   "cell_type": "markdown",
   "metadata": {},
   "source": [
    "#### 2. Preparing the data"
   ]
  },
  {
   "cell_type": "code",
   "execution_count": 5,
   "metadata": {},
   "outputs": [
    {
     "data": {
      "text/plain": [
       "(582571, 25)"
      ]
     },
     "execution_count": 5,
     "metadata": {},
     "output_type": "execute_result"
    }
   ],
   "source": [
    "df = df[df['year'] >= 2020]\n",
    "df.shape"
   ]
  },
  {
   "cell_type": "markdown",
   "metadata": {},
   "source": [
    "Theo thể loại (cột `category`)"
   ]
  },
  {
   "cell_type": "code",
   "execution_count": 6,
   "metadata": {},
   "outputs": [],
   "source": [
    "data = df[df['year'] >= 2021]"
   ]
  },
  {
   "cell_type": "code",
   "execution_count": 7,
   "metadata": {},
   "outputs": [
    {
     "name": "stderr",
     "output_type": "stream",
     "text": [
      "C:\\Users\\HoaTX\\AppData\\Local\\Temp\\ipykernel_18804\\4032574329.py:1: FutureWarning: The default value of numeric_only in DataFrameGroupBy.sum is deprecated. In a future version, numeric_only will default to False. Either specify numeric_only or select only columns which should be valid for the function.\n",
      "  top10_category = data.groupby('category').sum().sort_values(by='quantity_sold', ascending=False).head(10)\n"
     ]
    }
   ],
   "source": [
    "top10_category = data.groupby('category').sum().sort_values(by='quantity_sold', ascending=False).head(10)"
   ]
  },
  {
   "cell_type": "code",
   "execution_count": 8,
   "metadata": {},
   "outputs": [
    {
     "data": {
      "text/plain": [
       "0.7533494311063347"
      ]
     },
     "execution_count": 8,
     "metadata": {},
     "output_type": "execute_result"
    }
   ],
   "source": [
    "top10_category['quantity_sold'].sum() / df['quantity_sold'].sum()"
   ]
  },
  {
   "cell_type": "code",
   "execution_count": 9,
   "metadata": {},
   "outputs": [
    {
     "name": "stderr",
     "output_type": "stream",
     "text": [
      "C:\\Users\\HoaTX\\AppData\\Local\\Temp\\ipykernel_18804\\1569849450.py:1: FutureWarning: The default value of numeric_only in DataFrameGroupBy.sum is deprecated. In a future version, numeric_only will default to False. Either specify numeric_only or select only columns which should be valid for the function.\n",
      "  top10_category = df.groupby('category').sum().sort_values(by='quantity_sold', ascending=False).head(10).index\n"
     ]
    }
   ],
   "source": [
    "top10_category = df.groupby('category').sum().sort_values(by='quantity_sold', ascending=False).head(10).index\n",
    "df['theloai'] = df['category'].apply(lambda x: 1 if x in top10_category else 0)"
   ]
  },
  {
   "cell_type": "markdown",
   "metadata": {},
   "source": [
    "Top 10 thể loại có có lượng bán nhiều nhất đều liên tục nằm trong top 10 thể loại có lượng bán nhiều nhất từ năm 2021 đến năm 2013. Và tổng lượng chiếm đến `75%` lượng bán của tất cả các thể loại. Điều này cho thấy rằng các thể loại này có thể được coi là những thể loại phổ biến nhất trong thời gian dài. Nên nhóm chọn các khách hàng có sở thích mua các sản phẩm thuộc các thể loại này thuộc nhóm khách hàng tiềm năng."
   ]
  },
  {
   "cell_type": "markdown",
   "metadata": {},
   "source": [
    "Theo quý (cột `month`)"
   ]
  },
  {
   "cell_type": "code",
   "execution_count": 10,
   "metadata": {},
   "outputs": [],
   "source": [
    "data2023 = df[df['year'] == 2023]"
   ]
  },
  {
   "cell_type": "code",
   "execution_count": 11,
   "metadata": {},
   "outputs": [],
   "source": [
    "df['khachhang'] = data2023['month'].apply(lambda x: 1 if x >= 10 else 0)"
   ]
  },
  {
   "cell_type": "code",
   "execution_count": 12,
   "metadata": {},
   "outputs": [
    {
     "data": {
      "text/plain": [
       "0.01737813931692446"
      ]
     },
     "execution_count": 12,
     "metadata": {},
     "output_type": "execute_result"
    }
   ],
   "source": [
    "df[df['khachhang']==1].shape[0] / df.shape[0]"
   ]
  },
  {
   "cell_type": "markdown",
   "metadata": {},
   "source": [
    "Các khách hàng có xu hướng mua hàng trong quý 4 của năm 2023 sẽ được xem xét là nhóm khách hàng tiềm năng. Vì lượng bán hàng trong quý 4 có khá nhiều ưu đãi và giảm giá do có nhiều ngày lễ. Nên nhóm sẽ chọn các khách hàng có xu hướng mua hàng trong quý 4 của năm 2023 là nhóm khách hàng tiềm năng."
   ]
  },
  {
   "cell_type": "markdown",
   "metadata": {},
   "source": [
    "Theo năm (cột `year`)"
   ]
  },
  {
   "cell_type": "code",
   "execution_count": 13,
   "metadata": {},
   "outputs": [
    {
     "name": "stderr",
     "output_type": "stream",
     "text": [
      "C:\\Users\\HoaTX\\AppData\\Local\\Temp\\ipykernel_18804\\1381540299.py:1: SettingWithCopyWarning: \n",
      "A value is trying to be set on a copy of a slice from a DataFrame.\n",
      "Try using .loc[row_indexer,col_indexer] = value instead\n",
      "\n",
      "See the caveats in the documentation: https://pandas.pydata.org/pandas-docs/stable/user_guide/indexing.html#returning-a-view-versus-a-copy\n",
      "  data2023['tansuat'] = data2023.groupby(['customer_id'])['month'].transform('count')\n"
     ]
    }
   ],
   "source": [
    "data2023['tansuat'] = data2023.groupby(['customer_id'])['month'].transform('count')\n",
    "df['tansuat'] = data2023['tansuat'].apply(lambda x: 1 if x >= 2 else 0)"
   ]
  },
  {
   "cell_type": "code",
   "execution_count": 14,
   "metadata": {},
   "outputs": [
    {
     "data": {
      "text/plain": [
       "0.08768373296988693"
      ]
     },
     "execution_count": 14,
     "metadata": {},
     "output_type": "execute_result"
    }
   ],
   "source": [
    "df[df['tansuat']==1].shape[0] / df.shape[0]"
   ]
  },
  {
   "cell_type": "markdown",
   "metadata": {},
   "source": [
    "Chọn các khách hàng có tần suất mua hàng 3 lần trở lên trong năm 2023 là nhóm khách hàng tiềm năng. Vì các khách hàng này có xu hướng mua hàng thường xuyên. Và các khách hàng nào mua hàng trong 3 tháng cuối năm 2023 sẽ được xem xét là nhóm khách hàng tiềm năng. Vì những khách hàng có khả năng cao sẽ tiếp tục mua hàng."
   ]
  },
  {
   "cell_type": "markdown",
   "metadata": {},
   "source": [
    "Theo tác giả (cột `author_name`)"
   ]
  },
  {
   "cell_type": "code",
   "execution_count": 15,
   "metadata": {},
   "outputs": [
    {
     "name": "stderr",
     "output_type": "stream",
     "text": [
      "C:\\Users\\HoaTX\\AppData\\Local\\Temp\\ipykernel_18804\\1453239238.py:1: FutureWarning: The default value of numeric_only in DataFrameGroupBy.sum is deprecated. In a future version, numeric_only will default to False. Either specify numeric_only or select only columns which should be valid for the function.\n",
      "  top10_author = df.groupby('author_name').sum().sort_values(by='quantity_sold', ascending=False).head(10).index\n"
     ]
    }
   ],
   "source": [
    "top10_author = df.groupby('author_name').sum().sort_values(by='quantity_sold', ascending=False).head(10).index\n",
    "df['tacgia'] = df['author_name'].apply(lambda x: 1 if x in top10_author else 0)"
   ]
  },
  {
   "cell_type": "code",
   "execution_count": 16,
   "metadata": {},
   "outputs": [
    {
     "data": {
      "text/plain": [
       "0.21986847955013208"
      ]
     },
     "execution_count": 16,
     "metadata": {},
     "output_type": "execute_result"
    }
   ],
   "source": [
    "df[df['tacgia']==1].shape[0] / df.shape[0]"
   ]
  },
  {
   "cell_type": "markdown",
   "metadata": {},
   "source": [
    "Tương tự thì top 10 tác giả có lượng bán nhiều nhất đều liên tục nằm trong top 10 tác giả có lượng bán nhiều nhất từ năm 2021 đến năm 2013. Và tổng lượng chiếm đến `51%` lượng bán của tất cả các tác giả. Điều này cho thấy rằng các tác giả này có thể được coi là những tác giả phổ biến nhất trong thời gian dài. Nên nhóm chọn các khách hàng có sở thích mua các sản phẩm của các tác giả này thuộc nhóm khách hàng tiềm năng."
   ]
  },
  {
   "cell_type": "markdown",
   "metadata": {},
   "source": [
    "Theo giá (cột `price`)"
   ]
  },
  {
   "cell_type": "code",
   "execution_count": 17,
   "metadata": {},
   "outputs": [
    {
     "data": {
      "text/plain": [
       "<AxesSubplot: xlabel='year', ylabel='price_bin'>"
      ]
     },
     "execution_count": 17,
     "metadata": {},
     "output_type": "execute_result"
    },
    {
     "data": {
      "image/png": "[encoded data removed]",
      "text/plain": [
       "<Figure size 640x480 with 2 Axes>"
      ]
     },
     "metadata": {},
     "output_type": "display_data"
    }
   ],
   "source": [
    "df['price_bin'] = df['price'].apply(lambda x: x//50000)\n",
    "df['price_bin'].value_counts()\n",
    "\n",
    "sns.heatmap(df.groupby(['price_bin', 'year'])['customer_id'].count().unstack(), cmap='Blues')"
   ]
  },
  {
   "cell_type": "code",
   "execution_count": 18,
   "metadata": {},
   "outputs": [],
   "source": [
    "df['gia'] = df['price'].apply(lambda x: 1 if x >= 50000 and x < 200000 else 0)"
   ]
  },
  {
   "cell_type": "code",
   "execution_count": 19,
   "metadata": {},
   "outputs": [
    {
     "data": {
      "text/plain": [
       "0.7916786108474332"
      ]
     },
     "execution_count": 19,
     "metadata": {},
     "output_type": "execute_result"
    }
   ],
   "source": [
    "df[df['gia']==1].shape[0] / df.shape[0]"
   ]
  },
  {
   "cell_type": "markdown",
   "metadata": {},
   "source": [
    "Khách hàng có xu hướng mua các sản phẩm có giá từ `50000` đến `200000` là nhóm khách hàng tiềm năng. Vì các sản phẩm có giá này chiếm đến `79%` khách hàng mua hàng. Nên nhóm sẽ chọn các khách hàng có xu hướng mua các sản phẩm có giá từ `50000` đến `200000` là nhóm khách hàng tiềm năng."
   ]
  },
  {
   "cell_type": "code",
   "execution_count": 20,
   "metadata": {},
   "outputs": [],
   "source": [
    "df['target'] = df['tansuat'] + df['theloai'] + df['khachhang'] + df['tacgia'] + df['gia']\n",
    "df['target'] = df['target'].apply(lambda x: 1 if x >= 2 else 0)"
   ]
  },
  {
   "cell_type": "markdown",
   "metadata": {},
   "source": [
    "Ta sẽ chọn `target` là `1` nếu khách hàng thỏa mãn ít nhất 2 điều kiện trong 5 điều kiện trên (có mua hàng theo quý của năm 2023, tần suất mua hàng trong năm 2023, xu hướng mua hàng theo thể loại, xu hướng mua hàng theo tác giả, xu hướng mua hàng the giá) và ngược lại là `0`."
   ]
  },
  {
   "cell_type": "code",
   "execution_count": 21,
   "metadata": {},
   "outputs": [
    {
     "data": {
      "text/plain": [
       "0.10896182611218204"
      ]
     },
     "execution_count": 21,
     "metadata": {},
     "output_type": "execute_result"
    }
   ],
   "source": [
    "df[df['target']==1].shape[0] / df.shape[0]"
   ]
  },
  {
   "cell_type": "code",
   "execution_count": 22,
   "metadata": {},
   "outputs": [
    {
     "data": {
      "image/png": "[encoded data removed]",
      "text/plain": [
       "<Figure size 640x480 with 1 Axes>"
      ]
     },
     "metadata": {},
     "output_type": "display_data"
    }
   ],
   "source": [
    "sns.countplot(x='target', data=df)\n",
    "plt.show()"
   ]
  },
  {
   "cell_type": "code",
   "execution_count": 23,
   "metadata": {},
   "outputs": [],
   "source": [
    "X = df[['category', 'author_name', 'price', 'quantity_sold', 'rating', 'discount_rate', 'review_count']]\n",
    "y = df['target']"
   ]
  },
  {
   "cell_type": "code",
   "execution_count": 24,
   "metadata": {},
   "outputs": [
    {
     "name": "stderr",
     "output_type": "stream",
     "text": [
      "C:\\Users\\HoaTX\\AppData\\Local\\Temp\\ipykernel_18804\\3983281232.py:3: SettingWithCopyWarning: \n",
      "A value is trying to be set on a copy of a slice from a DataFrame.\n",
      "Try using .loc[row_indexer,col_indexer] = value instead\n",
      "\n",
      "See the caveats in the documentation: https://pandas.pydata.org/pandas-docs/stable/user_guide/indexing.html#returning-a-view-versus-a-copy\n",
      "  X['category'] = label_encoder.fit_transform(X['category'])\n",
      "C:\\Users\\HoaTX\\AppData\\Local\\Temp\\ipykernel_18804\\3983281232.py:6: SettingWithCopyWarning: \n",
      "A value is trying to be set on a copy of a slice from a DataFrame.\n",
      "Try using .loc[row_indexer,col_indexer] = value instead\n",
      "\n",
      "See the caveats in the documentation: https://pandas.pydata.org/pandas-docs/stable/user_guide/indexing.html#returning-a-view-versus-a-copy\n",
      "  X['author_name'] = label_encoder.fit_transform(X['author_name'])\n"
     ]
    }
   ],
   "source": [
    "label_encoder = LabelEncoder()\n",
    "if 'category' in X.columns:\n",
    "    X['category'] = label_encoder.fit_transform(X['category'])\n",
    "\n",
    "if 'author_name' in X.columns:\n",
    "    X['author_name'] = label_encoder.fit_transform(X['author_name'])"
   ]
  },
  {
   "cell_type": "code",
   "execution_count": 25,
   "metadata": {},
   "outputs": [],
   "source": [
    "X_train, X_test, y_train, y_test = train_test_split(X, y, test_size=0.2, random_state=42)"
   ]
  },
  {
   "cell_type": "markdown",
   "metadata": {},
   "source": [
    "#### 3. Modeling"
   ]
  },
  {
   "cell_type": "markdown",
   "metadata": {},
   "source": [
    "Mô hình `Decision Tree Classifier` là một mô hình phân loại đơn giản, dễ hiểu và có thể được sử dụng để tạo ra các quy tắc kinh doanh có thể được sử dụng để xác định khách hàng tiềm năng. Mô hình này tạo ra một cây quyết định, trong đó mỗi nút đại diện cho một thuộc tính và mỗi nhánh đại diện cho một giá trị của thuộc tính đó. Điều này giúp dễ dàng hiểu cách thức hoạt động của mô hình và tại sao nó đưa ra các dự đoán cụ thể."
   ]
  },
  {
   "cell_type": "code",
   "execution_count": 39,
   "metadata": {},
   "outputs": [
    {
     "name": "stdout",
     "output_type": "stream",
     "text": [
      "Decision Tree Classifier:\n",
      "Accuracy: 0.9096167875380852\n",
      "Recall: 0.2578836720392432\n",
      "Precision: 0.7680890538033395\n",
      "F1: 0.3861264937336054\n"
     ]
    }
   ],
   "source": [
    "model1 = DecisionTreeClassifier()\n",
    "model1.fit(X_train, y_train)\n",
    "y_pred1 = model1.predict(X_test)\n",
    "print('Decision Tree Classifier:')\n",
    "print('Accuracy:', accuracy_score(y_test, y_pred1))\n",
    "print('Recall:', recall_score(y_test, y_pred1))\n",
    "print('Precision:', precision_score(y_test, y_pred1))\n",
    "print('F1:', f1_score(y_test, y_pred1))"
   ]
  },
  {
   "cell_type": "code",
   "execution_count": 27,
   "metadata": {},
   "outputs": [],
   "source": [
    "def decision_tree(X, Y):\n",
    "    param_grid = {'max_depth': [int(x) for x in np.linspace(5, 20, num = 4)],\n",
    "                   'min_samples_split': [2, 5, 10],\n",
    "                   'min_samples_leaf': [1, 2, 4],\n",
    "                   'criterion': ['gini', 'entropy']\n",
    "                  }\n",
    "    dt = DecisionTreeClassifier()\n",
    "    dt_grid = GridSearchCV(estimator = dt, param_grid = param_grid, scoring='f1')\n",
    "    dt_grid.fit(X, Y)\n",
    "    return dt_grid"
   ]
  },
  {
   "cell_type": "code",
   "execution_count": 46,
   "metadata": {},
   "outputs": [],
   "source": [
    "tree_grid_res1 = decision_tree(X_train, y_train)"
   ]
  },
  {
   "cell_type": "code",
   "execution_count": 29,
   "metadata": {},
   "outputs": [
    {
     "data": {
      "text/plain": [
       "{'criterion': 'entropy',\n",
       " 'max_depth': 20,\n",
       " 'min_samples_leaf': 4,\n",
       " 'min_samples_split': 10}"
      ]
     },
     "execution_count": 29,
     "metadata": {},
     "output_type": "execute_result"
    }
   ],
   "source": [
    "tree_grid_res1.best_params_"
   ]
  },
  {
   "cell_type": "code",
   "execution_count": 30,
   "metadata": {},
   "outputs": [
    {
     "data": {
      "text/plain": [
       "0.39194342103163304"
      ]
     },
     "execution_count": 30,
     "metadata": {},
     "output_type": "execute_result"
    }
   ],
   "source": [
    "tree_grid_res1.best_score_"
   ]
  },
  {
   "cell_type": "markdown",
   "metadata": {},
   "source": [
    "Mô hình `MultinomialNB` được sử dụng cho dữ liệu đầu vào là các biến phân loại. Trong bài toán dự đoán khách hàng tiềm năng này thì có các biến phân loại như `category`, `author_name`, `price`,... nên mô hình này là một lựa chọn phù hợp. Mô hình có hiệu suất tốt trong các bài toán phân loại dữ liệu phân loại và có thể được huấn luyện nhanh chóng, ngay cả với dữ liệu lớn."
   ]
  },
  {
   "cell_type": "code",
   "execution_count": 52,
   "metadata": {},
   "outputs": [
    {
     "name": "stdout",
     "output_type": "stream",
     "text": [
      "Multinomial Naive Bayes:\n",
      "Accuracy: 0.44150538557267305\n",
      "Recall: 0.689169197228062\n",
      "Precision: 0.12656580678373278\n",
      "F1: 0.21385684083358505\n"
     ]
    }
   ],
   "source": [
    "model2 = MultinomialNB()\n",
    "model2.fit(X_train, y_train)\n",
    "y_pred2 = model2.predict(X_test)\n",
    "print('Multinomial Naive Bayes:')\n",
    "print('Accuracy:', accuracy_score(y_test, y_pred2))\n",
    "print('Recall:', recall_score(y_test, y_pred2))\n",
    "print('Precision:', precision_score(y_test, y_pred2))\n",
    "print('F1:', f1_score(y_test, y_pred2))"
   ]
  },
  {
   "cell_type": "code",
   "execution_count": 54,
   "metadata": {},
   "outputs": [],
   "source": [
    "def multinomial_NB(X, Y):\n",
    "    param_grid = {\n",
    "        'alpha': [0.01, 0.1, 0.2, 0.3, 0.4 , 0.5, 1.0, 1.5, 2.0] \n",
    "    }\n",
    "    NB1 = MultinomialNB()\n",
    "    NB1 = GridSearchCV(estimator=NB1, param_grid=param_grid, scoring = 'f1')\n",
    "    NB1.fit(X, Y)\n",
    "    return NB1"
   ]
  },
  {
   "cell_type": "code",
   "execution_count": 55,
   "metadata": {},
   "outputs": [],
   "source": [
    "NB1 = multinomial_NB(X_train, y_train)"
   ]
  },
  {
   "cell_type": "code",
   "execution_count": 56,
   "metadata": {},
   "outputs": [
    {
     "data": {
      "text/plain": [
       "{'alpha': 0.01}"
      ]
     },
     "execution_count": 56,
     "metadata": {},
     "output_type": "execute_result"
    }
   ],
   "source": [
    "NB1.best_params_"
   ]
  },
  {
   "cell_type": "code",
   "execution_count": 57,
   "metadata": {},
   "outputs": [
    {
     "data": {
      "text/plain": [
       "0.21293864445241387"
      ]
     },
     "execution_count": 57,
     "metadata": {},
     "output_type": "execute_result"
    }
   ],
   "source": [
    "NB1.best_score_"
   ]
  },
  {
   "cell_type": "markdown",
   "metadata": {},
   "source": [
    "Mô hình `Random Forest Classifier` thường có hiệu suất tốt trong các bài toán phân loại, bao gồm cả bài toán dự đoán khách hàng tiềm năng. Điều này là do mô hình Random Forest Classifier kết hợp kết quả của nhiều cây quyết định, giúp giảm thiểu khả năng overfitting. Có thể được huấn luyện nhanh chóng, ngay cả với dữ liệu lớn. Mô hình này có thể cung cấp hiệu suất tốt, dễ hiểu và giải thích, đồng thời có thể xử lý dữ liệu nhiễu tốt."
   ]
  },
  {
   "cell_type": "code",
   "execution_count": 36,
   "metadata": {},
   "outputs": [
    {
     "name": "stdout",
     "output_type": "stream",
     "text": [
      "Random Forest Classifier:\n",
      "Accuracy: 0.9096511178818177\n",
      "Recall: 0.2600638480105894\n",
      "Precision: 0.7653528872593951\n",
      "F1: 0.38821409891323294\n"
     ]
    }
   ],
   "source": [
    "model3 = RandomForestClassifier()\n",
    "model3.fit(X_train, y_train)\n",
    "y_pred3 = model3.predict(X_test)\n",
    "print('Random Forest Classifier:')\n",
    "print('Accuracy:', accuracy_score(y_test, y_pred3))\n",
    "print('Recall:', recall_score(y_test, y_pred3))\n",
    "print('Precision:', precision_score(y_test, y_pred3))\n",
    "print('F1:', f1_score(y_test, y_pred3))"
   ]
  },
  {
   "cell_type": "code",
   "execution_count": 37,
   "metadata": {},
   "outputs": [],
   "source": [
    "def random_forest(X, Y):\n",
    "    param_grid = {\n",
    "        'n_estimators': [100, 200, 300],\n",
    "        'max_depth': [int(x) for x in np.linspace(5, 20, num=4)],\n",
    "        'min_samples_split': [2, 5, 10],\n",
    "        'min_samples_leaf': [1, 2, 4],\n",
    "        'criterion': ['gini', 'entropy']\n",
    "    }\n",
    "    rf = RandomForestClassifier()\n",
    "    rf_grid = GridSearchCV(estimator=rf, param_grid=param_grid, scoring = 'f1')\n",
    "    rf_grid.fit(X, Y)\n",
    "    return rf_grid"
   ]
  },
  {
   "cell_type": "code",
   "execution_count": null,
   "metadata": {},
   "outputs": [],
   "source": [
    "rf_grid = random_forest(X_train, y_train)"
   ]
  },
  {
   "cell_type": "code",
   "execution_count": null,
   "metadata": {},
   "outputs": [],
   "source": [
    "rf_grid.best_params_"
   ]
  },
  {
   "cell_type": "code",
   "execution_count": null,
   "metadata": {},
   "outputs": [],
   "source": [
    "rf_grid.best_score_"
   ]
  },
  {
   "cell_type": "markdown",
   "metadata": {},
   "source": [
    "Mô hình `Gradient Boosting Classifier` thường có hiệu suất tốt trong các bài toán phân loại, bao gồm cả bài toán dự đoán khách hàng tiềm năng. Điều này là do mô hình Gradient Boosting Classifier kết hợp kết quả của nhiều mô hình yếu, giúp giảm thiểu khả năng overfitting. Có thể được huấn luyện nhanh chóng, ngay cả với dữ liệu lớn. Mô hình này có thể cung cấp hiệu suất tốt, dễ hiểu và giải thích, đồng thời có thể xử lý dữ liệu nhiễu tốt. Khá tương tự với mô hình Random Forest Classifier."
   ]
  },
  {
   "cell_type": "code",
   "execution_count": null,
   "metadata": {},
   "outputs": [
    {
     "name": "stdout",
     "output_type": "stream",
     "text": [
      "Gradient Boosting Classifier:\n",
      "Accuracy: 0.9012830965970047\n",
      "Recall: 0.14926419060967064\n",
      "Precision: 0.7689530685920578\n",
      "F1: 0.25\n"
     ]
    }
   ],
   "source": [
    "model4 = GradientBoostingClassifier()\n",
    "model4.fit(X_train, y_train)\n",
    "y_pred4 = model4.predict(X_test)\n",
    "print('Gradient Boosting Classifier:')\n",
    "print('Accuracy:', accuracy_score(y_test, y_pred4))\n",
    "print('Recall:', recall_score(y_test, y_pred4))\n",
    "print('Precision:', precision_score(y_test, y_pred4))\n",
    "print('F1:', f1_score(y_test, y_pred4))"
   ]
  },
  {
   "cell_type": "code",
   "execution_count": null,
   "metadata": {},
   "outputs": [],
   "source": [
    "def gradient_boosting(X, Y):\n",
    "    param_grid = {\n",
    "        'n_estimators': [100, 200, 300],\n",
    "        'learning_rate': [0.1, 0.05, 0.01],\n",
    "        'max_depth': [int(x) for x in np.linspace(5, 20, num=4)],\n",
    "        'subsample': [0.8, 0.9, 1.0],\n",
    "    }\n",
    "    gb = GradientBoostingClassifier()\n",
    "    gb_grid = GridSearchCV(estimator=gb, param_grid=param_grid, scoring = 'f1')\n",
    "    gb_grid.fit(X, Y)\n",
    "    return gb_grid"
   ]
  },
  {
   "cell_type": "code",
   "execution_count": null,
   "metadata": {},
   "outputs": [],
   "source": [
    "gb_grid = gradient_boosting(X_train, y_train)"
   ]
  },
  {
   "cell_type": "code",
   "execution_count": null,
   "metadata": {},
   "outputs": [],
   "source": [
    "gb_grid.best_params_"
   ]
  },
  {
   "cell_type": "code",
   "execution_count": null,
   "metadata": {},
   "outputs": [],
   "source": [
    "gb_grid.best_score_"
   ]
  }
 ],
 "metadata": {
  "kernelspec": {
   "display_name": "Python 3",
   "language": "python",
   "name": "python3"
  },
  "language_info": {
   "codemirror_mode": {
    "name": "ipython",
    "version": 3
   },
   "file_extension": ".py",
   "mimetype": "text/x-python",
   "name": "python",
   "nbconvert_exporter": "python",
   "pygments_lexer": "ipython3",
   "version": "3.10.9"
  }
 },
 "nbformat": 4,
 "nbformat_minor": 2
}
